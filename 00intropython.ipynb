{
  "nbformat": 4,
  "nbformat_minor": 0,
  "metadata": {
    "colab": {
      "provenance": [],
      "authorship_tag": "ABX9TyN9d8ypV5kMsdu5/PygePIv",
      "include_colab_link": true
    },
    "kernelspec": {
      "name": "python3",
      "display_name": "Python 3"
    },
    "language_info": {
      "name": "python"
    }
  },
  "cells": [
    {
      "cell_type": "markdown",
      "metadata": {
        "id": "view-in-github",
        "colab_type": "text"
      },
      "source": [
        "<a href=\"https://colab.research.google.com/github/Ramais123/Assignment_04/blob/main/00intropython.ipynb\" target=\"_parent\"><img src=\"https://colab.research.google.com/assets/colab-badge.svg\" alt=\"Open In Colab\"/></a>"
      ]
    },
    {
      "cell_type": "code",
      "execution_count": null,
      "metadata": {
        "colab": {
          "base_uri": "https://localhost:8080/"
        },
        "id": "hhEPlrVQlEyo",
        "outputId": "3c8360ab-6378-4dba-fcc6-e7b4f434fa61"
      },
      "outputs": [
        {
          "output_type": "stream",
          "name": "stdout",
          "text": [
            "01_add_two_numbers\n",
            "Enter First Number:8\n",
            "Enter First Number:9\n",
            "the total sum is: 17\n"
          ]
        }
      ],
      "source": [
        "print(\"01_add_two_numbers\")\n",
        "\n",
        "first_number = int(input(\"Enter First Number:\"))\n",
        "second_number = int(input(\"Enter First Number:\"))\n",
        "total_sum = int(first_number + second_number)\n",
        "print(\"the total sum is:\", total_sum)\n"
      ]
    },
    {
      "cell_type": "code",
      "source": [
        "print(\"02_agreement_bot\")\n",
        "\n",
        "def main():\n",
        "    favorite_animal = input(\"What's your favorite animal is? \")\n",
        "    print(\"My favorite animal is also \" + favorite_animal + \"!\")\n",
        "\n",
        "if __name__ == '__main__':\n",
        "    main()\n"
      ],
      "metadata": {
        "colab": {
          "base_uri": "https://localhost:8080/"
        },
        "id": "MrXDtLrbzMbm",
        "outputId": "ac529448-6763-43dd-f88e-641fc8ae01ee"
      },
      "execution_count": null,
      "outputs": [
        {
          "output_type": "stream",
          "name": "stdout",
          "text": [
            "02_agreement_bot\n",
            "What's your favorite animal is? Loin\n",
            "My favorite animal is also Loin!\n"
          ]
        }
      ]
    },
    {
      "cell_type": "code",
      "source": [
        "print(\"03_fahrenheit_to_celsius\")\n",
        "\n",
        "def temperature():\n",
        "    print(\"this application is for converting the temperature into fahrenheit to celsius\")\n",
        "    fahrenheit = float(input(\"Enter temperature in Fahrenheit: \"))\n",
        "    celsius = (fahrenheit - 32) * 5.0 / 9.0\n",
        "    print(f\"Temperature: {fahrenheit}F = {celsius}C\")\n",
        "\n",
        "if __name__ == '__main__':\n",
        "    temperature()\n"
      ],
      "metadata": {
        "id": "QgoLSZA_0is8",
        "colab": {
          "base_uri": "https://localhost:8080/"
        },
        "outputId": "cb041546-2265-4260-e23b-327f32616c81"
      },
      "execution_count": null,
      "outputs": [
        {
          "output_type": "stream",
          "name": "stdout",
          "text": [
            "03_fahrenheit_to_celsius\n",
            "this application is for converting the temperature into fahrenheit to celsius\n",
            "Enter temperature in Fahrenheit: 77\n",
            "Temperature: 77.0F = 25.0C\n"
          ]
        }
      ]
    },
    {
      "cell_type": "code",
      "source": [
        "print(\"04_how_old_are_they.\")\n",
        "def add_ages():\n",
        "    anton:int= 21\n",
        "    beth:int = anton + 6\n",
        "    chen:int = beth + 20\n",
        "    drew:int= chen + anton\n",
        "    ethan:int = chen\n",
        "\n",
        "    print(\"Anton is \" + str(anton))\n",
        "    print(\"Beth is \" + str(beth))\n",
        "    print(\"Chen is \" + str(chen))\n",
        "    print(\"Drew is \" + str(drew))\n",
        "    print(\"Ethan is \" + str(ethan))\n",
        "\n",
        "if __name__ == '__main__':\n",
        "    add_ages()\n"
      ],
      "metadata": {
        "colab": {
          "base_uri": "https://localhost:8080/"
        },
        "id": "k-a-QMQP4oYK",
        "outputId": "d83655c9-3d6f-47ba-f801-fd5152ce002f"
      },
      "execution_count": null,
      "outputs": [
        {
          "output_type": "stream",
          "name": "stdout",
          "text": [
            "04_how_old_are_they.\n",
            "Anton is 21\n",
            "Beth is 27\n",
            "Chen is 47\n",
            "Drew is 68\n",
            "Ethan is 47\n"
          ]
        }
      ]
    },
    {
      "cell_type": "code",
      "source": [
        "print(\"05_triangle_perimeter\")\n",
        "\n",
        "def triangle():\n",
        "    side1 = float(input(\"What is the length of side 1? \"))\n",
        "    side2 = float(input(\"What is the length of side 2? \"))\n",
        "    side3 = float(input(\"What is the length of side 3? \"))\n",
        "    print(\"The perimeter of the triangle is \" + str(side1 + side2 + side3))\n",
        "\n",
        "if __name__ == '__main__':\n",
        "    triangle()\n"
      ],
      "metadata": {
        "colab": {
          "base_uri": "https://localhost:8080/"
        },
        "id": "Ok188WlM8Uqw",
        "outputId": "de1dbda0-99df-4151-e290-eb5367392d4a"
      },
      "execution_count": null,
      "outputs": [
        {
          "output_type": "stream",
          "name": "stdout",
          "text": [
            "05_triangle_perimeter\n",
            "What is the length of side 1? 4\n",
            "What is the length of side 2? 3\n",
            "What is the length of side 3? 5\n",
            "The perimeter of the triangle is 12.0\n"
          ]
        }
      ]
    },
    {
      "cell_type": "code",
      "source": [
        "print(\"06_square_number\")\n",
        "\n",
        "def sqr():\n",
        "    print(\"this code is for about square of given number\")\n",
        "    num = float(input(\"Type a number to see its square: \"))\n",
        "    print(str(num) + \" squared is \" + str(num ** 2))\n",
        "\n",
        "if __name__ == '__main__':\n",
        "    sqr()\n"
      ],
      "metadata": {
        "colab": {
          "base_uri": "https://localhost:8080/"
        },
        "id": "Vk7CuMG48_cv",
        "outputId": "4237b051-240b-4362-c884-25bc9793a62a"
      },
      "execution_count": null,
      "outputs": [
        {
          "output_type": "stream",
          "name": "stdout",
          "text": [
            "06_square_number\n",
            "this code is for about square of given number\n",
            "Type a number to see its square: 4\n",
            "4.0 squared is 16.0\n"
          ]
        }
      ]
    },
    {
      "cell_type": "markdown",
      "source": [],
      "metadata": {
        "id": "A73d8epW4Vqh"
      }
    }
  ]
}