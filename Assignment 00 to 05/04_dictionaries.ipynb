{
  "nbformat": 4,
  "nbformat_minor": 0,
  "metadata": {
    "colab": {
      "provenance": []
    },
    "kernelspec": {
      "name": "python3",
      "display_name": "Python 3"
    },
    "language_info": {
      "name": "python"
    }
  },
  "cells": [
    {
      "cell_type": "code",
      "execution_count": null,
      "metadata": {
        "colab": {
          "base_uri": "https://localhost:8080/"
        },
        "id": "K-IIFXAv_OLW",
        "outputId": "98779745-779d-4e1f-9c69-38fea20b8017"
      },
      "outputs": [
        {
          "output_type": "stream",
          "name": "stdout",
          "text": [
            "00_count_nums\n",
            "Enter a number: 55\n",
            "Enter a number: 33\n",
            "Enter a number: 22\n",
            "Enter a number: 22\n",
            "Enter a number: \n",
            "55 appears 1 times.\n",
            "33 appears 1 times.\n",
            "22 appears 2 times.\n"
          ]
        }
      ],
      "source": [
        "print(\"00_count_nums\")\n",
        "\n",
        "def get_user_numbers():\n",
        "    numbers = []\n",
        "    while True:\n",
        "        user_input = input(\"Enter a number: \")\n",
        "        if user_input == \"\":\n",
        "            break\n",
        "        numbers.append(int(user_input))\n",
        "    return numbers\n",
        "\n",
        "def count_nums(numbers):\n",
        "    counts = {}\n",
        "    for num in numbers:\n",
        "        if num in counts:\n",
        "            counts[num] += 1\n",
        "        else:\n",
        "            counts[num] = 1\n",
        "    return counts\n",
        "\n",
        "def print_counts(counts):\n",
        "    for num in counts:\n",
        "        print(f\"{num} appears {counts[num]} times.\")\n",
        "\n",
        "def main():\n",
        "    user_numbers = get_user_numbers()\n",
        "    counts = count_nums(user_numbers)\n",
        "    print_counts(counts)\n",
        "\n",
        "if __name__ == '__main__':\n",
        "    main()\n",
        "\n"
      ]
    },
    {
      "cell_type": "code",
      "source": [
        "print(\"01_phonebook\")\n",
        "\n",
        "def read_phone_numbers():\n",
        "    phonebook = {}\n",
        "    while True:\n",
        "        name = input(\"Name: \")\n",
        "        if name == \"\":\n",
        "            break\n",
        "        number = input(\"Number: \")\n",
        "        phonebook[name] = number\n",
        "    return phonebook\n",
        "\n",
        "def print_phonebook(phonebook):\n",
        "    for name in phonebook:\n",
        "        print(f\"{name} -> {phonebook[name]}\")\n",
        "\n",
        "def lookup_numbers(phonebook):\n",
        "    while True:\n",
        "        name = input(\"Enter name to lookup: \")\n",
        "        if name == \"\":\n",
        "            break\n",
        "        if name in phonebook:\n",
        "            print(phonebook[name])\n",
        "        else:\n",
        "            print(f\"{name} is not in the phonebook\")\n",
        "\n",
        "def main():\n",
        "    phonebook = read_phone_numbers()\n",
        "    print_phonebook(phonebook)\n",
        "    lookup_numbers(phonebook)\n",
        "\n",
        "if __name__ == '__main__':\n",
        "    main()\n"
      ],
      "metadata": {
        "colab": {
          "base_uri": "https://localhost:8080/"
        },
        "id": "G0akhq1h_hj8",
        "outputId": "11c8a778-8b81-4bd9-9ac5-8b342f5d6c69"
      },
      "execution_count": null,
      "outputs": [
        {
          "name": "stdout",
          "output_type": "stream",
          "text": [
            "01_phonebook\n",
            "Name: Ramais Khan\n",
            "Number: 03232848763\n",
            "Name: Usman\n",
            "Number: 03218293750\n",
            "Name: \n",
            "Ramais Khan -> 03232848763\n",
            "Usman -> 03218293750\n",
            "Enter name to lookup: Usman\n",
            "03218293750\n",
            "Enter name to lookup: saad\n",
            "saad is not in the phonebook\n",
            "Enter name to lookup: \n"
          ]
        }
      ]
    },
    {
      "cell_type": "code",
      "source": [
        "print(\"02_pop_up_shop\")\n",
        "\n",
        "def main():\n",
        "    fruits = {\n",
        "        'apple': 1.5,\n",
        "        'durian': 50,\n",
        "        'jackfruit': 80,\n",
        "        'kiwi': 1,\n",
        "        'rambutan': 1.5,\n",
        "        'mango': 5\n",
        "    }\n",
        "\n",
        "    total_cost = 0\n",
        "    for fruit in fruits:\n",
        "        amount = int(input(f\"How many ({fruit}) do you want?: \"))\n",
        "        total_cost += fruits[fruit] * amount\n",
        "\n",
        "    print(f\"Your total is ${total_cost}\")\n",
        "\n",
        "if __name__ == '__main__':\n",
        "    main()\n",
        "\n"
      ],
      "metadata": {
        "colab": {
          "base_uri": "https://localhost:8080/"
        },
        "id": "KpTexCvb_-xn",
        "outputId": "7335fc49-66a0-4d07-fdb9-bfc3da1911e8"
      },
      "execution_count": null,
      "outputs": [
        {
          "output_type": "stream",
          "name": "stdout",
          "text": [
            "02_pop_up_shop\n",
            "How many (apple) do you want?: 4\n",
            "How many (durian) do you want?: 6\n",
            "How many (jackfruit) do you want?: 8\n",
            "How many (kiwi) do you want?: 8\n",
            "How many (rambutan) do you want?: 9\n",
            "How many (mango) do you want?: 7\n",
            "Your total is $1002.5\n"
          ]
        }
      ]
    },
    {
      "cell_type": "code",
      "source": [
        "from hashlib import sha256\n",
        "\n",
        "def hash_password(password):\n",
        "    return sha256(password.encode()).hexdigest()\n",
        "\n",
        "def login(email, stored_logins, password_to_check):\n",
        "    return stored_logins[email] == hash_password(password_to_check)\n",
        "\n",
        "def main():\n",
        "    stored_logins = {\n",
        "        \"example@gmail.com\": \"5e884898da28047151d0e56f8dc6292773603d0d6aabbdd62a11ef721d1542d8\",\n",
        "        \"code_in_placer@cip.org\": \"973607a4ae7b4cf7d96a100b0fb07e8519cc4f70441d41214a9f811577bb06cc\",\n",
        "        \"student@stanford.edu\": \"882c6df720fd99f5eebb1581a1cf975625cea8a160283011c0b9512bb56c95fb\"\n",
        "    }\n",
        "\n",
        "    print(login(\"example@gmail.com\", stored_logins, \"word\"))           # False\n",
        "    print(login(\"example@gmail.com\", stored_logins, \"password\"))       # True\n",
        "    print(login(\"code_in_placer@cip.org\", stored_logins, \"Karel\"))     # True\n",
        "    print(login(\"code_in_placer@cip.org\", stored_logins, \"karel\"))     # False\n",
        "    print(login(\"student@stanford.edu\", stored_logins, \"password\"))    # True\n",
        "    print(login(\"student@stanford.edu\", stored_logins, \"123!456?789\")) # False\n",
        "\n",
        "if __name__ == '__main__':\n",
        "    main()\n"
      ],
      "metadata": {
        "colab": {
          "base_uri": "https://localhost:8080/"
        },
        "id": "Lx8u7v5HAWZ7",
        "outputId": "4aa8f5bb-d4f7-40b0-fa84-bc3b7928d481"
      },
      "execution_count": null,
      "outputs": [
        {
          "output_type": "stream",
          "name": "stdout",
          "text": [
            "False\n",
            "True\n",
            "False\n",
            "True\n",
            "False\n",
            "True\n"
          ]
        }
      ]
    }
  ]
}