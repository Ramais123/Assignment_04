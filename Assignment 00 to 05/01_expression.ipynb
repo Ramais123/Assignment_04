{
  "nbformat": 4,
  "nbformat_minor": 0,
  "metadata": {
    "colab": {
      "provenance": []
    },
    "kernelspec": {
      "name": "python3",
      "display_name": "Python 3"
    },
    "language_info": {
      "name": "python"
    }
  },
  "cells": [
    {
      "cell_type": "code",
      "execution_count": null,
      "metadata": {
        "colab": {
          "base_uri": "https://localhost:8080/"
        },
        "id": "GFxJpIt4UEy8",
        "outputId": "40b2ceff-f880-49c3-fd35-a3b846cc30d5"
      },
      "outputs": [
        {
          "output_type": "stream",
          "name": "stdout",
          "text": [
            "die1 in main() starts as: 10\n",
            "Total of two dice: 2\n",
            "Total of two dice: 5\n",
            "Total of two dice: 11\n",
            "die1 in main() is: 10\n"
          ]
        }
      ],
      "source": [
        "import random\n",
        "print(\"01_dicesimulator\")\n",
        "NUM_SIDES = 6\n",
        "\n",
        "def roll_dice():\n",
        "    die1 = random.randint(1, NUM_SIDES)\n",
        "    die2 = random.randint(1, NUM_SIDES)\n",
        "    total = die1 + die2\n",
        "    print(\"Total of two dice:\", total)\n",
        "\n",
        "def main():\n",
        "    die1 = 10\n",
        "    print(\"die1 in main() starts as: \" + str(die1))\n",
        "    roll_dice()\n",
        "    roll_dice()\n",
        "    roll_dice()\n",
        "    print(\"die1 in main() is: \" + str(die1))\n",
        "\n",
        "if __name__ == '__main__':\n",
        "    main()\n"
      ]
    },
    {
      "cell_type": "code",
      "source": [
        "C = 299792458\n",
        "print(\"02_e=mc2\")\n",
        "def main():\n",
        "    mass = float(input(\"Enter kilos of mass: \"))\n",
        "    energy = mass * (C ** 2)\n",
        "    print(\"e = m * C^2...\")\n",
        "    print(\"m = \" + str(mass) + \" kg\")\n",
        "    print(\"C = \" + str(C) + \" m/s\")\n",
        "    print(str(energy) + \" joules of energy!\")\n",
        "\n",
        "if __name__ == '__main__':\n",
        "    main()\n"
      ],
      "metadata": {
        "colab": {
          "base_uri": "https://localhost:8080/"
        },
        "id": "5Teb5C5SVdof",
        "outputId": "065ea2b0-b827-4c09-a124-d8665aa33c1a"
      },
      "execution_count": null,
      "outputs": [
        {
          "output_type": "stream",
          "name": "stdout",
          "text": [
            "02_e=mc2\n",
            "Enter kilos of mass: 20\n",
            "e = m * C^2...\n",
            "m = 20.0 kg\n",
            "C = 299792458 m/s\n",
            "1.7975103574736353e+18 joules of energy!\n"
          ]
        }
      ]
    },
    {
      "cell_type": "code",
      "source": [
        "print(\"03_feet_to_inches\")\n",
        "INCHES_IN_FOOT = 12\n",
        "\n",
        "def foot():\n",
        "    feet = float(input(\"Enter number of feet: \"))\n",
        "    inches = feet * INCHES_IN_FOOT\n",
        "    print(\"That is\", inches, \"inches!\")\n",
        "\n",
        "if __name__ == '__main__':\n",
        "    foot()\n"
      ],
      "metadata": {
        "colab": {
          "base_uri": "https://localhost:8080/"
        },
        "id": "W9zTQKWOYlxo",
        "outputId": "b6b7f6a2-0523-4574-9ae3-665768e585c0"
      },
      "execution_count": null,
      "outputs": [
        {
          "output_type": "stream",
          "name": "stdout",
          "text": [
            "03_feet_to_inches\n",
            "Enter number of feet: 18\n",
            "That is 216.0 inches!\n"
          ]
        }
      ]
    },
    {
      "cell_type": "code",
      "source": [
        "print(\"04_pythagorean_theorem\")\n",
        "import math\n",
        "\n",
        "def triangle():\n",
        "    ab = float(input(\"Enter the length of AB: \"))\n",
        "    ac = float(input(\"Enter the length of AC: \"))\n",
        "    bc = math.sqrt(ab**2 + ac**2)\n",
        "    print(\"The length of BC (the hypotenuse) is: \" + str(bc))\n",
        "\n",
        "if __name__ == '__main__':\n",
        "    triangle()\n"
      ],
      "metadata": {
        "colab": {
          "base_uri": "https://localhost:8080/"
        },
        "id": "debixRuGZk8h",
        "outputId": "1bf2cb43-1791-42e0-af27-eeda510c97c3"
      },
      "execution_count": null,
      "outputs": [
        {
          "output_type": "stream",
          "name": "stdout",
          "text": [
            "04_pythagorean_theorem\n",
            "Enter the length of AB: 6\n",
            "Enter the length of AC: 8\n",
            "The length of BC (the hypotenuse) is: 10.0\n"
          ]
        }
      ]
    },
    {
      "cell_type": "code",
      "source": [
        "print(\"05_remainder_division\")\n",
        "def remainder():\n",
        "    dividend = int(input(\"Please enter an integer to be divided: \"))\n",
        "    divisor = int(input(\"Please enter an integer to divide by: \"))\n",
        "    quotient = dividend // divisor\n",
        "    remainder = dividend % divisor\n",
        "    print(\"The result of this division is \" + str(quotient) + \" with a remainder of \" + str(remainder))\n",
        "\n",
        "if __name__ == '__main__':\n",
        "    remainder()\n"
      ],
      "metadata": {
        "colab": {
          "base_uri": "https://localhost:8080/"
        },
        "id": "kv2hiu7xZ3VY",
        "outputId": "5f60ff25-ec6e-439f-dec9-1d4ac1d523fe"
      },
      "execution_count": null,
      "outputs": [
        {
          "output_type": "stream",
          "name": "stdout",
          "text": [
            "05_remainder_division\n",
            "Please enter an integer to be divided: 6\n",
            "Please enter an integer to divide by: 3\n",
            "The result of this division is 2 with a remainder of 0\n"
          ]
        }
      ]
    },
    {
      "cell_type": "code",
      "source": [
        "import random\n",
        "print(\"06_RollDice\")\n",
        "NUM_SIDES = 6\n",
        "\n",
        "def main():\n",
        "    die1 = random.randint(1, NUM_SIDES)\n",
        "    die2 = random.randint(1, NUM_SIDES)\n",
        "    total = die1 + die2\n",
        "    print(\"Dice have\", NUM_SIDES, \"sides each.\")\n",
        "    print(\"First die:\", die1)\n",
        "    print(\"Second die:\", die2)\n",
        "    print(\"Total of two dice:\", total)\n",
        "\n",
        "if __name__ == '__main__':\n",
        "    main()\n"
      ],
      "metadata": {
        "colab": {
          "base_uri": "https://localhost:8080/"
        },
        "id": "12VaJBlNbOqu",
        "outputId": "9d79c21d-c69d-4f0a-a9b9-35f50675ffb9"
      },
      "execution_count": null,
      "outputs": [
        {
          "output_type": "stream",
          "name": "stdout",
          "text": [
            "06_RollDice\n",
            "Dice have 6 sides each.\n",
            "First die: 4\n",
            "Second die: 6\n",
            "Total of two dice: 10\n"
          ]
        }
      ]
    },
    {
      "cell_type": "code",
      "source": [
        "print(\"06_seconds_in_year\")\n",
        "\n",
        "DAYS_PER_YEAR = 365\n",
        "HOURS_PER_DAY = 24\n",
        "MIN_PER_HOUR = 60\n",
        "SEC_PER_MIN = 60\n",
        "\n",
        "def second():\n",
        "    seconds_per_year = DAYS_PER_YEAR * HOURS_PER_DAY * MIN_PER_HOUR * SEC_PER_MIN\n",
        "    print(\"There are \" + str(seconds_per_year) + \" seconds in a year!\")\n",
        "\n",
        "if __name__ == '__main__':\n",
        "    second()\n"
      ],
      "metadata": {
        "colab": {
          "base_uri": "https://localhost:8080/"
        },
        "id": "OVsBoBBYblC2",
        "outputId": "7fdd617d-1b46-484b-8061-8b6368a88ba9"
      },
      "execution_count": null,
      "outputs": [
        {
          "output_type": "stream",
          "name": "stdout",
          "text": [
            "06_seconds_in_year\n",
            "There are 31536000 seconds in a year!\n"
          ]
        }
      ]
    },
    {
      "cell_type": "code",
      "source": [
        "print(\"7_tiny_mad_lib\")\n",
        "\n",
        "def mad_lib():\n",
        "    noun: str = str(input(\"Enter a noun: \"))\n",
        "    adjective: str = str(input(\"Enter an adjective: \"))\n",
        "    verb: str = str(input(\"Enter a verb: \"))\n",
        "\n",
        "    print(f\"Do you {verb} your {adjective} {noun}?\")\n",
        "\n",
        "if __name__ == \"__main__\":\n",
        "    mad_lib()\n",
        "''"
      ],
      "metadata": {
        "colab": {
          "base_uri": "https://localhost:8080/"
        },
        "id": "TrZae4P5cDxF",
        "outputId": "f90b37b4-5cff-4975-beae-dd5d56fdbca6"
      },
      "execution_count": null,
      "outputs": [
        {
          "output_type": "stream",
          "name": "stdout",
          "text": [
            "7_tiny_mad_lib\n",
            "Enter a noun: ramais\n",
            "Enter an adjective: cool\n",
            "Enter a verb: code\n",
            "Do you code your cool ramais?\n"
          ]
        }
      ]
    }
  ]
}